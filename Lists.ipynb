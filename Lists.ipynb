{
  "nbformat": 4,
  "nbformat_minor": 0,
  "metadata": {
    "colab": {
      "provenance": []
    },
    "kernelspec": {
      "name": "python3",
      "display_name": "Python 3"
    },
    "language_info": {
      "name": "python"
    }
  },
  "cells": [
    {
      "cell_type": "code",
      "execution_count": 5,
      "metadata": {
        "colab": {
          "base_uri": "https://localhost:8080/"
        },
        "id": "Ol73lCpZAA9L",
        "outputId": "624ae31b-d867-4164-9d9e-ac071e32a76b"
      },
      "outputs": [
        {
          "output_type": "stream",
          "name": "stdout",
          "text": [
            "Mounted at /content/drive\n"
          ]
        }
      ],
      "source": [
        "from google.colab import drive\n",
        "drive.mount('/content/drive', force_remount = True)"
      ]
    },
    {
      "cell_type": "code",
      "source": [
        "import pandas as pd\n"
      ],
      "metadata": {
        "id": "6L7tXnNAU003"
      },
      "execution_count": 7,
      "outputs": []
    },
    {
      "cell_type": "code",
      "source": [
        "#lists\n",
        "left = [\"HillaryClinton\", \"JoeBiden\", \"CNN\", \"SenKamalaHarris\", \"SenWarren\", \"SenGillibrand\", \"CoryBooker\", \"AlterNet\"]\n",
        "right = [\"realDonladTrump\", \"TuckerCarlson\", \"FoxNews\", \"Mike_Pence\", \"SenTedCruz\", \"nypost\", \"theblaze\", \"RedState\"]"
      ],
      "metadata": {
        "id": "A7qzB3vyVTWW"
      },
      "execution_count": 13,
      "outputs": []
    }
  ]
}