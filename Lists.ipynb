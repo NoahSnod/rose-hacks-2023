{
  "nbformat": 4,
  "nbformat_minor": 0,
  "metadata": {
    "colab": {
      "provenance": []
    },
    "kernelspec": {
      "name": "python3",
      "display_name": "Python 3"
    },
    "language_info": {
      "name": "python"
    }
  },
  "cells": [
    {
      "cell_type": "code",
      "execution_count": null,
      "metadata": {
        "id": "EGEY9jsno1Bh"
      },
      "outputs": [],
      "source": [
        "#LISTS OF MENTIONS\n",
        "left_mentions = [\"HillaryClinton\", \"JoeBiden\", \"CNN\", \"SenKamalaHarris\", \"SenWarren\", \"SenGillibrand\", \"CoryBooker\", \"AlterNet\", \"AOC\", \"andrewcuomo\", \"FLOTUS\", \"donlemon\", \"MSNBC\", \"SpeakerPelosi\", \"jaketapper\", \"CuomoPrimeTime\"]\n",
        "right_mentions = [\"realDonladTrump\", \"TuckerCarlson\", \"FoxNews\", \"Mike_Pence\", \"SenTedCruz\", \"nypost\", \"theblaze\", \"RedState\", \"WalshFreedom\", \"benshapiro\", \"realDailyWire\", \"DonaldJTrumpJr\", \"GregAbbott_TX\", \"MailOnline\", \"WashTimes\", \"HawleyMO\", \"amconmag\", \"drudgereport\", \"megynkelly\", \"OANN\", \"TomiLahren\", \"Liz_Wheeler\", \"RealCandaceO\", \"RudyGiuliani\", \"BuckSexton\", \"IvankaTrump\", \"dbongino\", \"DennisPrager\", \"IngrahamAngle\", \"SarahHuckabee\", \"TheBabylonBee\"]"
      ]
    }
  ]
}